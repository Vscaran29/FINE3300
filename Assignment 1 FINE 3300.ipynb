{
 "cells": [
  {
   "cell_type": "code",
   "execution_count": 82,
   "metadata": {},
   "outputs": [],
   "source": [
    "# Taking Intial user input for the principal amount for the mortgage\n",
    "principal=float(input(\"Input the starting principal for the mortgage: \"))\n",
    "rate=float(input(\"Input the annual rate in % for the mortgage: \"))\n",
    "amortization=float(input(\"Input the amortization period the mortgage in years: \"))"
   ]
  },
  {
   "cell_type": "code",
   "execution_count": 83,
   "metadata": {},
   "outputs": [],
   "source": [
    "# Create a single function that calculates the \n",
    "def mortgage_payment(principal,rate,amortization):\n",
    "    # Convert the % recieved as a input into a float number\n",
    "    rate=rate/100\n",
    "\n",
    "    \n",
    "    # Calculate the number of payments for each different period\n",
    "    monthly=amortization*12\n",
    "    semi_monthly=amortization*24\n",
    "    bi_weekly=amortization*26\n",
    "    weekly=amortization*52\n",
    "\n",
    "    # Get the rate for each scenario(using the formulas provided in the assignment sheet)\n",
    "    monthly_rate=(((1+rate/2)**(2/12))-1)\n",
    "    semi_monthly_rate=((1+rate/2)**(2/24))-1\n",
    "    bi_weekly_rate=((1+rate/2)**(2/26))-1\n",
    "    weekly_rate=((1+rate/2)**(2/52))-1\n",
    "\n",
    "    # Begin to calculate the payments for different schedules\n",
    "    monthly_payment=((((monthly_rate*(1+monthly_rate)**monthly))/(((1+monthly_rate)**monthly)-1)))*principal\n",
    "    semi_monthly_payment=((((semi_monthly_rate*(1+semi_monthly_rate)**semi_monthly))/(((1+semi_monthly_rate)**semi_monthly)-1)))*principal\n",
    "    bi_weekly_payment=((((bi_weekly_rate*(1+bi_weekly_rate)**bi_weekly))/(((1+bi_weekly_rate)**bi_weekly)-1)))*principal\n",
    "    weekly_payment=((((weekly_rate*(1+weekly_rate)**weekly))/(((1+weekly_rate)**weekly)-1)))*principal\n",
    "    \n",
    "    # Can use the shortcut for the accelerated payments as the accelarated payments are a percentage of the monthly payment\n",
    "\n",
    "    acel_bi_weekly_payment=monthly_payment/2\n",
    "    acel_weekly=monthly_payment/4\n",
    "\n",
    "    print(\"Based on the Parameters of the mortgage the following would be your different options for making payments:\")\n",
    "\n",
    "    print(\"Monthly Payment:$ \",round(monthly_payment,2))\n",
    "    print(\"Semi Monthly Payment:$ \",round(semi_monthly_payment,2))\n",
    "    print(\"Bi Weekly Payment:$ \",round(bi_weekly_payment,2))\n",
    "    print(\"Weekly Payment:$ \",round(weekly_payment,2))\n",
    "    print(\"Accelerated Bi Weekly Payment:$ \",round(acel_bi_weekly_payment,2))\n",
    "    print(\"Accelerated Weekly Payment:$ \",round(acel_weekly,2))"
   ]
  },
  {
   "cell_type": "code",
   "execution_count": 86,
   "metadata": {},
   "outputs": [
    {
     "name": "stdout",
     "output_type": "stream",
     "text": [
      "Based on the Parameters of the mortgage the following would be your different options for making payments:\n",
      "Monthly Payment:$  3051.96\n",
      "Semi Monthly Payment:$  1524.25\n",
      "Bi Weekly Payment:$  1406.88\n",
      "Weekly Payment:$  703.07\n",
      "Accelerated Bi Weekly Payment:$  1525.98\n",
      "Accelerated Weekly Payment:$  762.99\n"
     ]
    }
   ],
   "source": [
    "# Execution of the variables for question b in the assingment based on the user input\n",
    "mortgage_payment(principal,rate,amortization)"
   ]
  },
  {
   "cell_type": "code",
   "execution_count": 85,
   "metadata": {},
   "outputs": [
    {
     "name": "stdout",
     "output_type": "stream",
     "text": [
      "Based on the Parameters of the mortgage the following would be your different options for making payments:\n",
      "Monthly Payment:$  610.39\n",
      "Semi Monthly Payment:$  304.85\n",
      "Bi Weekly Payment:$  281.38\n",
      "Weekly Payment:$  140.61\n",
      "Accelerated Bi Weekly Payment:$  305.2\n",
      "Accelerated Weekly Payment:$  152.6\n"
     ]
    }
   ],
   "source": [
    "# Execution of the Sample Problem with the paramaters(principal=100K, rate=5.5% and amortization period of 25 years)\n",
    "mortgage_payment(100000,5.5,25)"
   ]
  }
 ],
 "metadata": {
  "kernelspec": {
   "display_name": "base",
   "language": "python",
   "name": "python3"
  },
  "language_info": {
   "codemirror_mode": {
    "name": "ipython",
    "version": 3
   },
   "file_extension": ".py",
   "mimetype": "text/x-python",
   "name": "python",
   "nbconvert_exporter": "python",
   "pygments_lexer": "ipython3",
   "version": "3.10.9"
  },
  "orig_nbformat": 4
 },
 "nbformat": 4,
 "nbformat_minor": 2
}
